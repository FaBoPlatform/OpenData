{
 "cells": [
  {
   "cell_type": "markdown",
   "metadata": {},
   "source": [
    "NewYorkの2015年のTaxiのログより、長距離乗車(300km)の乗車ポイントをGoogle MapにPlotする。\n",
    "\n",
    "Bigquery, Numpy, gmapsをImport"
   ]
  },
  {
   "cell_type": "code",
   "execution_count": 1,
   "metadata": {
    "collapsed": true
   },
   "outputs": [],
   "source": [
    "import datalab.bigquery as bq\n",
    "import numpy as np\n",
    "import gmaps"
   ]
  },
  {
   "cell_type": "markdown",
   "metadata": {},
   "source": [
    "NewYork近辺でピックアップし、300km以上乗車した場所をSELECT"
   ]
  },
  {
   "cell_type": "code",
   "execution_count": 33,
   "metadata": {
    "collapsed": true
   },
   "outputs": [],
   "source": [
    "%%sql --module taxilog\n",
    "SELECT pickup_latitude,pickup_longitude FROM [nyc-tlc:green.trips_2015] WHERE distance_between_service > 300 AND pickup_latitude > 40.5 AND pickup_latitude < 40.9"
   ]
  },
  {
   "cell_type": "markdown",
   "metadata": {},
   "source": [
    "実際に結果を取得。"
   ]
  },
  {
   "cell_type": "code",
   "execution_count": 34,
   "metadata": {
    "collapsed": false
   },
   "outputs": [
    {
     "data": {
      "text/html": [
       "\n",
       "    <div class=\"bqtv\" id=\"6_148569707823\"><table><tr><th>pickup_latitude</th><th>pickup_longitude</th></tr><tr><td>40.7021331787</td><td>-73.9157791138</td></tr><tr><td>40.6994056702</td><td>-73.8070983887</td></tr><tr><td>40.8681602478</td><td>-73.9198608398</td></tr><tr><td>40.8178062439</td><td>-73.9247360229</td></tr><tr><td>40.8515663147</td><td>-73.8821105957</td></tr><tr><td>40.8538665771</td><td>-73.9304199219</td></tr><tr><td>40.8037605286</td><td>-73.9130706787</td></tr><tr><td>40.730556488</td><td>-73.8897705078</td></tr><tr><td>40.8314666748</td><td>-73.8879241943</td></tr><tr><td>40.7582511902</td><td>-73.9376144409</td></tr><tr><td>40.809879303</td><td>-73.9206085205</td></tr><tr><td>40.8129959106</td><td>-73.9160919189</td></tr><tr><td>40.7710456848</td><td>-73.8890762329</td></tr><tr><td>40.8270835876</td><td>-73.9241714478</td></tr><tr><td>40.8054924011</td><td>-73.918548584</td></tr><tr><td>40.8242797852</td><td>-73.9109268188</td></tr><tr><td>40.8488464355</td><td>-73.9003219604</td></tr><tr><td>40.8345527649</td><td>-73.924407959</td></tr><tr><td>40.8144874573</td><td>-73.9364395142</td></tr><tr><td>40.7653388977</td><td>-73.8888092041</td></tr><tr><td>40.7256355286</td><td>-73.8910980225</td></tr><tr><td>40.880607605</td><td>-73.877204895</td></tr><tr><td>40.66979599</td><td>-73.955406189</td></tr><tr><td>40.6918983459</td><td>-73.9103927612</td></tr><tr><td>40.820980072</td><td>-73.8957748413</td></tr></table></div>\n",
       "    <br />(rows: 77286, time: 1.9s,   237MB processed, job: job_SbwX-8fUFubx3MUf7K1_B6L3nlM)<br />\n",
       "    <script>\n",
       "\n",
       "      require.config({\n",
       "        paths: {\n",
       "          d3: '//cdnjs.cloudflare.com/ajax/libs/d3/3.4.13/d3',\n",
       "          plotly: 'https://cdn.plot.ly/plotly-1.5.1.min.js?noext',\n",
       "          jquery: '//ajax.googleapis.com/ajax/libs/jquery/2.0.0/jquery.min'\n",
       "        },\n",
       "        map: {\n",
       "          '*': {\n",
       "            datalab: 'nbextensions/gcpdatalab'\n",
       "          }\n",
       "        },\n",
       "        shim: {\n",
       "          plotly: {\n",
       "            deps: ['d3', 'jquery'],\n",
       "            exports: 'plotly'\n",
       "          }\n",
       "        }\n",
       "      });\n",
       "\n",
       "      require(['datalab/charting', 'datalab/element!6_148569707823', 'base/js/events',\n",
       "          'datalab/style!/nbextensions/gcpdatalab/charting.css'],\n",
       "        function(charts, dom, events) {\n",
       "          charts.render('gcharts', dom, events, 'paged_table', [], {\"rows\": [{\"c\": [{\"v\": 40.70213317871094}, {\"v\": -73.91577911376953}]}, {\"c\": [{\"v\": 40.699405670166016}, {\"v\": -73.80709838867188}]}, {\"c\": [{\"v\": 40.868160247802734}, {\"v\": -73.91986083984375}]}, {\"c\": [{\"v\": 40.817806243896484}, {\"v\": -73.92473602294922}]}, {\"c\": [{\"v\": 40.851566314697266}, {\"v\": -73.88211059570312}]}, {\"c\": [{\"v\": 40.85386657714844}, {\"v\": -73.930419921875}]}, {\"c\": [{\"v\": 40.80376052856445}, {\"v\": -73.91307067871094}]}, {\"c\": [{\"v\": 40.73055648803711}, {\"v\": -73.8897705078125}]}, {\"c\": [{\"v\": 40.83146667480469}, {\"v\": -73.88792419433594}]}, {\"c\": [{\"v\": 40.75825119018555}, {\"v\": -73.93761444091797}]}, {\"c\": [{\"v\": 40.809879302978516}, {\"v\": -73.92060852050781}]}, {\"c\": [{\"v\": 40.81299591064453}, {\"v\": -73.91609191894531}]}, {\"c\": [{\"v\": 40.77104568481445}, {\"v\": -73.88907623291016}]}, {\"c\": [{\"v\": 40.827083587646484}, {\"v\": -73.9241714477539}]}, {\"c\": [{\"v\": 40.80549240112305}, {\"v\": -73.91854858398438}]}, {\"c\": [{\"v\": 40.82427978515625}, {\"v\": -73.91092681884766}]}, {\"c\": [{\"v\": 40.848846435546875}, {\"v\": -73.90032196044922}]}, {\"c\": [{\"v\": 40.83455276489258}, {\"v\": -73.92440795898438}]}, {\"c\": [{\"v\": 40.81448745727539}, {\"v\": -73.93643951416016}]}, {\"c\": [{\"v\": 40.76533889770508}, {\"v\": -73.88880920410156}]}, {\"c\": [{\"v\": 40.72563552856445}, {\"v\": -73.89109802246094}]}, {\"c\": [{\"v\": 40.88060760498047}, {\"v\": -73.87720489501953}]}, {\"c\": [{\"v\": 40.669795989990234}, {\"v\": -73.95540618896484}]}, {\"c\": [{\"v\": 40.691898345947266}, {\"v\": -73.91039276123047}]}, {\"c\": [{\"v\": 40.820980072021484}, {\"v\": -73.8957748413086}]}], \"cols\": [{\"type\": \"number\", \"id\": \"pickup_latitude\", \"label\": \"pickup_latitude\"}, {\"type\": \"number\", \"id\": \"pickup_longitude\", \"label\": \"pickup_longitude\"}]},\n",
       "            {\n",
       "              pageSize: 25,\n",
       "              cssClassNames:  {\n",
       "                tableRow: 'gchart-table-row',\n",
       "                headerRow: 'gchart-table-headerrow',\n",
       "                oddTableRow: 'gchart-table-oddrow',\n",
       "                selectedTableRow: 'gchart-table-selectedrow',\n",
       "                hoverTableRow: 'gchart-table-hoverrow',\n",
       "                tableCell: 'gchart-table-cell',\n",
       "                headerCell: 'gchart-table-headercell',\n",
       "                rowNumberCell: 'gchart-table-rownumcell'\n",
       "              }\n",
       "            },\n",
       "            {source_index: 5, fields: 'pickup_latitude,pickup_longitude'},\n",
       "            0,\n",
       "            77286);\n",
       "        }\n",
       "      );\n",
       "    </script>\n",
       "  "
      ],
      "text/plain": [
       "QueryResultsTable job_SbwX-8fUFubx3MUf7K1_B6L3nlM"
      ]
     },
     "execution_count": 34,
     "metadata": {},
     "output_type": "execute_result"
    }
   ],
   "source": [
    "q = bq.Query(taxilog)\n",
    "results = q.results(use_cache = False)\n",
    "results"
   ]
  },
  {
   "cell_type": "markdown",
   "metadata": {},
   "source": [
    "取得したlat, lonを、配列に格納。"
   ]
  },
  {
   "cell_type": "code",
   "execution_count": 35,
   "metadata": {
    "collapsed": true
   },
   "outputs": [],
   "source": [
    "pickupPoints = np.empty((0,2), float)\n",
    "\n",
    "for item in results:\n",
    "  lat = item['pickup_latitude']\n",
    "  lon = item['pickup_longitude']\n",
    "  pickupPoints = np.append(pickupPoints, np.array([[lat, lon]]), axis=0)"
   ]
  },
  {
   "cell_type": "markdown",
   "metadata": {},
   "source": [
    "配列数を表示。"
   ]
  },
  {
   "cell_type": "code",
   "execution_count": 36,
   "metadata": {
    "collapsed": false
   },
   "outputs": [
    {
     "data": {
      "text/plain": [
       "77286"
      ]
     },
     "execution_count": 36,
     "metadata": {},
     "output_type": "execute_result"
    }
   ],
   "source": [
    "len(pickupPoints)"
   ]
  },
  {
   "cell_type": "markdown",
   "metadata": {},
   "source": [
    "gmapsで、Google MapsにPlot。"
   ]
  },
  {
   "cell_type": "code",
   "execution_count": 38,
   "metadata": {
    "collapsed": true
   },
   "outputs": [],
   "source": [
    "\n",
    "gmaps.configure(api_key=\"AIza.....\")\n",
    "\n",
    "m = gmaps.Map()\n",
    "m.add_layer(gmaps.Heatmap(data=pickupPoints.tolist()))\n",
    "m"
   ]
  },
  {
   "cell_type": "code",
   "execution_count": null,
   "metadata": {
    "collapsed": true
   },
   "outputs": [],
   "source": []
  }
 ],
 "metadata": {
  "kernelspec": {
   "display_name": "Python 2",
   "language": "python",
   "name": "python2"
  },
  "language_info": {
   "codemirror_mode": {
    "name": "ipython",
    "version": 2
   },
   "file_extension": ".py",
   "mimetype": "text/x-python",
   "name": "python",
   "nbconvert_exporter": "python",
   "pygments_lexer": "ipython2",
   "version": "2.7.9"
  },
  "widgets": {
   "state": {
    "48205a491dd04174b5045ff081549249": {
     "views": [
      {
       "cell_index": 11
      }
     ]
    }
   },
   "version": "1.2.0"
  }
 },
 "nbformat": 4,
 "nbformat_minor": 2
}
