{
 "cells": [
  {
   "cell_type": "markdown",
   "metadata": {},
   "source": [
    "NewYorkの2015年のTaxiのログより、長距離乗車(300km)の乗車ポイントをGoogle MapにPlotする。\n",
    "\n",
    "Bigquery, Numpy, gmapsをImport"
   ]
  },
  {
   "cell_type": "code",
   "execution_count": 1,
   "metadata": {
    "collapsed": true
   },
   "outputs": [],
   "source": [
    "import datalab.bigquery as bq\n",
    "import numpy as np\n",
    "import gmaps"
   ]
  },
  {
   "cell_type": "markdown",
   "metadata": {},
   "source": [
    "NewYork近辺でピックアップし、300km以上乗車した場所をSELECT"
   ]
  },
  {
   "cell_type": "code",
   "execution_count": 28,
   "metadata": {
    "collapsed": true
   },
   "outputs": [],
   "source": [
    "%%sql --module taxilog\n",
    "SELECT pickup_latitude,pickup_longitude FROM [nyc-tlc:green.trips_2015] WHERE distance_between_service > 300 AND pickup_latitude > 40.5 AND pickup_latitude < 40.8"
   ]
  },
  {
   "cell_type": "markdown",
   "metadata": {},
   "source": [
    "実際に結果を取得。"
   ]
  },
  {
   "cell_type": "code",
   "execution_count": 29,
   "metadata": {
    "collapsed": false
   },
   "outputs": [
    {
     "data": {
      "text/html": [
       "\n",
       "    <div class=\"bqtv\" id=\"5_148569655520\"><table><tr><th>pickup_latitude</th><th>pickup_longitude</th></tr><tr><td>40.7496147156</td><td>-73.8549041748</td></tr><tr><td>40.7582435608</td><td>-73.9373245239</td></tr><tr><td>40.7458305359</td><td>-73.8674316406</td></tr><tr><td>40.7696228027</td><td>-73.9144668579</td></tr><tr><td>40.6877861023</td><td>-74.1813278198</td></tr><tr><td>40.6757507324</td><td>-73.8901519775</td></tr><tr><td>40.725440979</td><td>-74.0731582642</td></tr><tr><td>40.6763343811</td><td>-73.9635391235</td></tr><tr><td>40.734577179</td><td>-73.8633346558</td></tr><tr><td>40.7208023071</td><td>-73.8389358521</td></tr><tr><td>40.7542572021</td><td>-73.8603363037</td></tr><tr><td>40.6955490112</td><td>-73.9803085327</td></tr><tr><td>40.7075538635</td><td>-73.8191070557</td></tr><tr><td>40.6273345947</td><td>-73.9414138794</td></tr><tr><td>40.7592926025</td><td>-73.8079528809</td></tr><tr><td>40.653881073</td><td>-73.9258270264</td></tr><tr><td>40.6109466553</td><td>-74.1521759033</td></tr><tr><td>40.7493667603</td><td>-73.888168335</td></tr><tr><td>40.7498435974</td><td>-73.8561706543</td></tr><tr><td>40.7562141418</td><td>-73.8617553711</td></tr><tr><td>40.7693519592</td><td>-73.8810577393</td></tr><tr><td>40.6386413574</td><td>-74.0250701904</td></tr><tr><td>40.7581748962</td><td>-73.9373779297</td></tr><tr><td>40.7640571594</td><td>-73.9021148682</td></tr><tr><td>40.755531311</td><td>-73.8671035767</td></tr></table></div>\n",
       "    <br />(rows: 50175, time: 0.9s,   237MB processed, job: job_Q68DMwDSPUYlEx1Hp4SHl7cMQKY)<br />\n",
       "    <script>\n",
       "\n",
       "      require.config({\n",
       "        paths: {\n",
       "          d3: '//cdnjs.cloudflare.com/ajax/libs/d3/3.4.13/d3',\n",
       "          plotly: 'https://cdn.plot.ly/plotly-1.5.1.min.js?noext',\n",
       "          jquery: '//ajax.googleapis.com/ajax/libs/jquery/2.0.0/jquery.min'\n",
       "        },\n",
       "        map: {\n",
       "          '*': {\n",
       "            datalab: 'nbextensions/gcpdatalab'\n",
       "          }\n",
       "        },\n",
       "        shim: {\n",
       "          plotly: {\n",
       "            deps: ['d3', 'jquery'],\n",
       "            exports: 'plotly'\n",
       "          }\n",
       "        }\n",
       "      });\n",
       "\n",
       "      require(['datalab/charting', 'datalab/element!5_148569655520', 'base/js/events',\n",
       "          'datalab/style!/nbextensions/gcpdatalab/charting.css'],\n",
       "        function(charts, dom, events) {\n",
       "          charts.render('gcharts', dom, events, 'paged_table', [], {\"rows\": [{\"c\": [{\"v\": 40.74961471557617}, {\"v\": -73.85490417480469}]}, {\"c\": [{\"v\": 40.758243560791016}, {\"v\": -73.93732452392578}]}, {\"c\": [{\"v\": 40.74583053588867}, {\"v\": -73.867431640625}]}, {\"c\": [{\"v\": 40.769622802734375}, {\"v\": -73.91446685791016}]}, {\"c\": [{\"v\": 40.68778610229492}, {\"v\": -74.18132781982422}]}, {\"c\": [{\"v\": 40.675750732421875}, {\"v\": -73.89015197753906}]}, {\"c\": [{\"v\": 40.725440979003906}, {\"v\": -74.07315826416016}]}, {\"c\": [{\"v\": 40.676334381103516}, {\"v\": -73.96353912353516}]}, {\"c\": [{\"v\": 40.73457717895508}, {\"v\": -73.86333465576172}]}, {\"c\": [{\"v\": 40.720802307128906}, {\"v\": -73.83893585205078}]}, {\"c\": [{\"v\": 40.75425720214844}, {\"v\": -73.86033630371094}]}, {\"c\": [{\"v\": 40.69554901123047}, {\"v\": -73.98030853271484}]}, {\"c\": [{\"v\": 40.70755386352539}, {\"v\": -73.81910705566406}]}, {\"c\": [{\"v\": 40.62733459472656}, {\"v\": -73.94141387939453}]}, {\"c\": [{\"v\": 40.75929260253906}, {\"v\": -73.80795288085938}]}, {\"c\": [{\"v\": 40.65388107299805}, {\"v\": -73.92582702636719}]}, {\"c\": [{\"v\": 40.61094665527344}, {\"v\": -74.15217590332031}]}, {\"c\": [{\"v\": 40.749366760253906}, {\"v\": -73.88816833496094}]}, {\"c\": [{\"v\": 40.74984359741211}, {\"v\": -73.85617065429688}]}, {\"c\": [{\"v\": 40.7562141418457}, {\"v\": -73.86175537109375}]}, {\"c\": [{\"v\": 40.769351959228516}, {\"v\": -73.88105773925781}]}, {\"c\": [{\"v\": 40.638641357421875}, {\"v\": -74.02507019042969}]}, {\"c\": [{\"v\": 40.758174896240234}, {\"v\": -73.9373779296875}]}, {\"c\": [{\"v\": 40.76405715942383}, {\"v\": -73.90211486816406}]}, {\"c\": [{\"v\": 40.755531311035156}, {\"v\": -73.86710357666016}]}], \"cols\": [{\"type\": \"number\", \"id\": \"pickup_latitude\", \"label\": \"pickup_latitude\"}, {\"type\": \"number\", \"id\": \"pickup_longitude\", \"label\": \"pickup_longitude\"}]},\n",
       "            {\n",
       "              pageSize: 25,\n",
       "              cssClassNames:  {\n",
       "                tableRow: 'gchart-table-row',\n",
       "                headerRow: 'gchart-table-headerrow',\n",
       "                oddTableRow: 'gchart-table-oddrow',\n",
       "                selectedTableRow: 'gchart-table-selectedrow',\n",
       "                hoverTableRow: 'gchart-table-hoverrow',\n",
       "                tableCell: 'gchart-table-cell',\n",
       "                headerCell: 'gchart-table-headercell',\n",
       "                rowNumberCell: 'gchart-table-rownumcell'\n",
       "              }\n",
       "            },\n",
       "            {source_index: 4, fields: 'pickup_latitude,pickup_longitude'},\n",
       "            0,\n",
       "            50175);\n",
       "        }\n",
       "      );\n",
       "    </script>\n",
       "  "
      ],
      "text/plain": [
       "QueryResultsTable job_Q68DMwDSPUYlEx1Hp4SHl7cMQKY"
      ]
     },
     "execution_count": 29,
     "metadata": {},
     "output_type": "execute_result"
    }
   ],
   "source": [
    "q = bq.Query(taxilog)\n",
    "results = q.results(use_cache = False)\n",
    "results"
   ]
  },
  {
   "cell_type": "markdown",
   "metadata": {},
   "source": [
    "取得したlat, lonを、配列に格納。"
   ]
  },
  {
   "cell_type": "code",
   "execution_count": 30,
   "metadata": {
    "collapsed": true
   },
   "outputs": [],
   "source": [
    "pickupPoints = np.empty((0,2), float)\n",
    "\n",
    "for item in results:\n",
    "  lat = item['pickup_latitude']\n",
    "  lon = item['pickup_longitude']\n",
    "  pickupPoints = np.append(pickupPoints, np.array([[lat, lon]]), axis=0)"
   ]
  },
  {
   "cell_type": "markdown",
   "metadata": {},
   "source": [
    "配列数を表示。"
   ]
  },
  {
   "cell_type": "code",
   "execution_count": 31,
   "metadata": {
    "collapsed": false
   },
   "outputs": [
    {
     "data": {
      "text/plain": [
       "50175"
      ]
     },
     "execution_count": 31,
     "metadata": {},
     "output_type": "execute_result"
    }
   ],
   "source": [
    "len(pickupPoints)"
   ]
  },
  {
   "cell_type": "markdown",
   "metadata": {},
   "source": [
    "gmapsで、Google MapsにPlot。"
   ]
  },
  {
   "cell_type": "code",
   "execution_count": 32,
   "metadata": {
    "collapsed": true
   },
   "outputs": [],
   "source": [
    "\n",
    "gmaps.configure(api_key=\"AIz....\")\n",
    "\n",
    "m = gmaps.Map()\n",
    "m.add_layer(gmaps.Heatmap(data=pickupPoints.tolist()))\n",
    "m"
   ]
  },
  {
   "cell_type": "code",
   "execution_count": null,
   "metadata": {
    "collapsed": true
   },
   "outputs": [],
   "source": []
  }
 ],
 "metadata": {
  "kernelspec": {
   "display_name": "Python 2",
   "language": "python",
   "name": "python2"
  },
  "language_info": {
   "codemirror_mode": {
    "name": "ipython",
    "version": 2
   },
   "file_extension": ".py",
   "mimetype": "text/x-python",
   "name": "python",
   "nbconvert_exporter": "python",
   "pygments_lexer": "ipython2",
   "version": "2.7.9"
  },
  "widgets": {
   "state": {
    "ca172d7b38b241b3a72d754b83b7fdfa": {
     "views": [
      {
       "cell_index": 11
      }
     ]
    }
   },
   "version": "1.2.0"
  }
 },
 "nbformat": 4,
 "nbformat_minor": 2
}
