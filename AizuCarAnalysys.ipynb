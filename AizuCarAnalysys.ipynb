{
 "cells": [
  {
   "cell_type": "markdown",
   "metadata": {},
   "source": [
    "会津若松市の公用車走行のOpenDataと、OSMの信号機の場所の2つのデータを加工し、急停止/急加速した場所をGoogle Mapにプロットしてみる。"
   ]
  },
  {
   "cell_type": "code",
   "execution_count": 109,
   "metadata": {
    "collapsed": true
   },
   "outputs": [],
   "source": [
    "from math import sqrt, cos, sin, asin, radians, atan2\n",
    "import json\n",
    "import requests\n",
    "import gmaps\n",
    "import numpy as np"
   ]
  },
  {
   "cell_type": "markdown",
   "metadata": {},
   "source": [
    "まず、公用車の走行データをData4Citizienより取得。1回の上限が1万件なので、offsetをつかって10回に分けてデータを取得する(10万件)。データは、100ms周期の3軸加速度が取得できる。"
   ]
  },
  {
   "cell_type": "code",
   "execution_count": 4,
   "metadata": {
    "collapsed": false
   },
   "outputs": [],
   "source": [
    "def getCarDatasets():\n",
    "  LIMIT = 10000\n",
    "  SIZE = 100000\n",
    "  \n",
    "  for i in xrange(SIZE/LIMIT):\n",
    "    pos_offset = LIMIT * (i)\n",
    "    url = 'http://www.data4citizen.jp/app/developer/query/query?odql=SELECT%20car_name%0A%2C%20latitude%0A%2C%20longitude%0A%2C%20gps_error_meter%0A%2C%20accel_x_transverse%0A%2C%20accel_y_longitudinal%0A%2C%20accel_z_vertical%0AFROM%20O_CAR_TRAFFIC_DATA%20limit%20'+str(LIMIT)+'%20offset%20'+str(pos_offset)\n",
    "    r = requests.get(url)\n",
    "    if i == 0:\n",
    "      data = r.json()[\"data\"]\n",
    "    else:\n",
    "      data.extend(r.json()[\"data\"])\n",
    "\n",
    "  return data"
   ]
  },
  {
   "cell_type": "markdown",
   "metadata": {},
   "source": [
    "会津若松市の公用車データ10万件のデータを取得。"
   ]
  },
  {
   "cell_type": "code",
   "execution_count": 5,
   "metadata": {
    "collapsed": false
   },
   "outputs": [
    {
     "data": {
      "text/plain": [
       "100000"
      ]
     },
     "execution_count": 5,
     "metadata": {},
     "output_type": "execute_result"
    }
   ],
   "source": [
    "carDatasets = getCarDatasets()\n",
    "len(carDatasets)"
   ]
  },
  {
   "cell_type": "markdown",
   "metadata": {},
   "source": [
    "次に、OSMから、信号機の緯度/経度を取得。"
   ]
  },
  {
   "cell_type": "code",
   "execution_count": 75,
   "metadata": {
    "collapsed": true
   },
   "outputs": [],
   "source": [
    "def getTrafficLights():\n",
    "  url = 'https://gist.githubusercontent.com/anonymous/1ebabeb9622ae01338f33e1f364975fd/raw/9018ebf7046227d6e911c6eab6aee88054fb87ce/overpass.geojson'\n",
    "  r = requests.get(url)\n",
    "  data = r.json()\n",
    "  lightPoints = np.empty((0,2), float)\n",
    "  for item in data[\"features\"]:\n",
    "    lon = item[\"geometry\"][\"coordinates\"][0]\n",
    "    lat = item[\"geometry\"][\"coordinates\"][1]\n",
    "    lightPoints = np.append(lightPoints, np.array([[lat, lon]]), axis=0)\n",
    "    \n",
    "  return lightPoints"
   ]
  },
  {
   "cell_type": "markdown",
   "metadata": {},
   "source": [
    "信号機データを取得。"
   ]
  },
  {
   "cell_type": "code",
   "execution_count": 88,
   "metadata": {
    "collapsed": false
   },
   "outputs": [
    {
     "data": {
      "text/plain": [
       "260"
      ]
     },
     "execution_count": 88,
     "metadata": {},
     "output_type": "execute_result"
    }
   ],
   "source": [
    "lightPoints = getTrafficLights()\n",
    "len(lightPoints)"
   ]
  },
  {
   "cell_type": "code",
   "execution_count": 84,
   "metadata": {
    "collapsed": false
   },
   "outputs": [
    {
     "data": {
      "text/plain": [
       "1227"
      ]
     },
     "execution_count": 84,
     "metadata": {},
     "output_type": "execute_result"
    }
   ],
   "source": [
    "def accident(before_axis, latest_axis):\n",
    "  ACCIDENT = 10000\n",
    "  if np.power((before_axis*100-latest_axis*100),2) > ACCIDENT:\n",
    "    return True\n",
    "  else:\n",
    "    return False\n",
    "  \n",
    "accidentPoints = np.empty((0,2), float)\n",
    "(x, y, z) = (0, 0, 0)\n",
    "for item in carDatasets:\n",
    "  lat = item[\"latitude\"]\n",
    "  lon = item[\"longitude\"]\n",
    "  (_x, _y, _z) = (x, y, z)\n",
    "  x = item[\"accel_x_transverse\"]\n",
    "  y = item[\"accel_y_longitudinal\"]\n",
    "  z = item[\"accel_z_vertical\"]\n",
    "  ACCIDENT = 5000\n",
    "  if accident(_x, x) or accident(_y, y) or accident(_z, z):\n",
    "    accidentPoints = np.append(accidentPoints, np.array([[lat, lon]]), axis=0)\n",
    "\n",
    "len(accidentPoints)"
   ]
  },
  {
   "cell_type": "markdown",
   "metadata": {},
   "source": [
    "次に、信号機の近隣かどうかの判定をおこなう"
   ]
  },
  {
   "cell_type": "code",
   "execution_count": 118,
   "metadata": {
    "collapsed": false
   },
   "outputs": [
    {
     "name": "stdout",
     "output_type": "stream",
     "text": [
      "[[  37.494257  139.929316]\n",
      " [  37.497904  139.930645]\n",
      " [  37.497913  139.930651]\n",
      " ..., \n",
      " [  37.505968  139.931962]\n",
      " [  37.513885  139.931663]\n",
      " [  37.551505  139.92517 ]]\n"
     ]
    }
   ],
   "source": [
    "def nearTfafficLights(lon1, lat1, lon2, lat2):\n",
    "  radius = 6371 * 1000\n",
    "  dlat = radians(lat2-lat1)\n",
    "  dlon = radians(lon2-lon1)\n",
    "  a = sin(dlat/2) * sin(dlat/2) + cos(radians(lat1)) * cos(radians(lat2)) * sin(dlon/2) * sin(dlon/2)\n",
    "  c = 2 * atan2(sqrt(a), sqrt(1-a))\n",
    "  d = radius * c\n",
    "\n",
    "  return d\n",
    "\n",
    "realAccidentPoints = np.empty((0,2), float)\n",
    "for apoint in accidentPoints:\n",
    "  for lpoint in lightPoints:\n",
    "    distance = nearTfafficLights(apoint[0], apoint[1], lpoint[0], lpoint[1])\n",
    "    if distance > 10:\n",
    "      realAccidentPoints = np.append(realAccidentPoints, np.array([[apoint[0], apoint[1]]]), axis=0)\n",
    "      break\n",
    "\n",
    "print realAccidentPoints"
   ]
  },
  {
   "cell_type": "markdown",
   "metadata": {},
   "source": [
    "最後にGoogle Map上にPlot。"
   ]
  },
  {
   "cell_type": "code",
   "execution_count": 119,
   "metadata": {
    "collapsed": true
   },
   "outputs": [],
   "source": [
    "gmaps.configure(api_key=\"AIza.....\")\n",
    "    \n",
    "m = gmaps.Map()\n",
    "m.add_layer(gmaps.Heatmap(data=realAccidentPoints.tolist()))\n",
    "m"
   ]
  },
  {
   "cell_type": "code",
   "execution_count": null,
   "metadata": {
    "collapsed": true
   },
   "outputs": [],
   "source": []
  }
 ],
 "metadata": {
  "kernelspec": {
   "display_name": "Python 2",
   "language": "python",
   "name": "python2"
  },
  "language_info": {
   "codemirror_mode": {
    "name": "ipython",
    "version": 2
   },
   "file_extension": ".py",
   "mimetype": "text/x-python",
   "name": "python",
   "nbconvert_exporter": "python",
   "pygments_lexer": "ipython2",
   "version": "2.7.9"
  },
  "widgets": {
   "state": {
    "afec78eb507e44f295b6e947c95d07a7": {
     "views": [
      {
       "cell_index": 14
      }
     ]
    }
   },
   "version": "1.2.0"
  }
 },
 "nbformat": 4,
 "nbformat_minor": 2
}
