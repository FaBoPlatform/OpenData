{
 "cells": [
  {
   "cell_type": "markdown",
   "metadata": {},
   "source": [
    "会津若松市の公用車走行のOpenDataで、路面の凹凸箇所をGoogle Mapにプロットしてみる。"
   ]
  },
  {
   "cell_type": "code",
   "execution_count": 2,
   "metadata": {
    "collapsed": true
   },
   "outputs": [],
   "source": [
    "from math import sqrt, cos, sin, asin, radians, atan2\n",
    "import json\n",
    "import requests\n",
    "import gmaps\n",
    "import numpy as np"
   ]
  },
  {
   "cell_type": "markdown",
   "metadata": {},
   "source": [
    "まず、公用車の走行データをData4Citizienより取得。1回の上限が1万件なので、offsetをつかって10回に分けてデータを取得する(10万件)。データは、100ms周期の3軸加速度が取得できる。"
   ]
  },
  {
   "cell_type": "code",
   "execution_count": 3,
   "metadata": {
    "collapsed": false
   },
   "outputs": [],
   "source": [
    "def getCarDatasets():\n",
    "  LIMIT = 10000\n",
    "  SIZE = 100000\n",
    "  \n",
    "  for i in xrange(SIZE/LIMIT):\n",
    "    pos_offset = LIMIT * (i)\n",
    "    url = 'http://www.data4citizen.jp/app/developer/query/query?odql=SELECT%20car_name%0A%2C%20latitude%0A%2C%20longitude%0A%2C%20gps_error_meter%0A%2C%20accel_x_transverse%0A%2C%20accel_y_longitudinal%0A%2C%20accel_z_vertical%0AFROM%20O_CAR_TRAFFIC_DATA%20limit%20'+str(LIMIT)+'%20offset%20'+str(pos_offset)\n",
    "    r = requests.get(url)\n",
    "    if i == 0:\n",
    "      data = r.json()[\"data\"]\n",
    "    else:\n",
    "      data.extend(r.json()[\"data\"])\n",
    "\n",
    "  return data"
   ]
  },
  {
   "cell_type": "markdown",
   "metadata": {},
   "source": [
    "会津若松市の公用車データ10万件のデータを取得。"
   ]
  },
  {
   "cell_type": "code",
   "execution_count": 4,
   "metadata": {
    "collapsed": false
   },
   "outputs": [
    {
     "data": {
      "text/plain": [
       "100000"
      ]
     },
     "execution_count": 4,
     "metadata": {},
     "output_type": "execute_result"
    }
   ],
   "source": [
    "carDatasets = getCarDatasets()\n",
    "len(carDatasets)"
   ]
  },
  {
   "cell_type": "markdown",
   "metadata": {},
   "source": [
    "信号機データを取得。"
   ]
  },
  {
   "cell_type": "code",
   "execution_count": 5,
   "metadata": {
    "collapsed": false
   },
   "outputs": [
    {
     "data": {
      "text/plain": [
       "383"
      ]
     },
     "execution_count": 5,
     "metadata": {},
     "output_type": "execute_result"
    }
   ],
   "source": [
    "def accident(before_axis, latest_axis):\n",
    "  ACCIDENT = 10000\n",
    "  if np.power((before_axis*100-latest_axis*100),2) > ACCIDENT:\n",
    "    return True\n",
    "  else:\n",
    "    return False\n",
    "  \n",
    "accidentPoints = np.empty((0,2), float)\n",
    "(x, y, z) = (0, 0, 0)\n",
    "for item in carDatasets:\n",
    "  lat = item[\"latitude\"]\n",
    "  lon = item[\"longitude\"]\n",
    "  (_x, _y, _z) = (x, y, z)\n",
    "  x = item[\"accel_x_transverse\"]\n",
    "  y = item[\"accel_y_longitudinal\"]\n",
    "  z = item[\"accel_z_vertical\"]\n",
    "  if accident(_z, z):\n",
    "    accidentPoints = np.append(accidentPoints, np.array([[lat, lon]]), axis=0)\n",
    "\n",
    "len(accidentPoints)"
   ]
  },
  {
   "cell_type": "markdown",
   "metadata": {},
   "source": [
    "最後にGoogle Map上にPlot。"
   ]
  },
  {
   "cell_type": "code",
   "execution_count": 18,
   "metadata": {
    "collapsed": false
   },
   "outputs": [
    {
     "name": "stderr",
     "output_type": "stream",
     "text": [
      "Widget Javascript not detected.  It may not be installed properly. Did you enable the widgetsnbextension? If not, then run \"jupyter nbextension enable --py --sys-prefix widgetsnbextension\"\n"
     ]
    }
   ],
   "source": [
    "gmaps.configure(api_key=\"AIza...\")\n",
    "\n",
    "starbucks_layer = gmaps.symbol_layer(\n",
    "    accidentPoints.tolist(), fill_color=\"red\", stroke_color=\"red\", scale=1\n",
    ")\n",
    "\n",
    "m = gmaps.Map()\n",
    "m.add_layer(starbucks_layer)\n",
    "m"
   ]
  },
  {
   "cell_type": "code",
   "execution_count": null,
   "metadata": {
    "collapsed": true
   },
   "outputs": [],
   "source": []
  }
 ],
 "metadata": {
  "kernelspec": {
   "display_name": "Python 2",
   "language": "python",
   "name": "python2"
  },
  "widgets": {
   "state": {
    "385849eb92f9415bb223ce2e5287ab57": {
     "views": [
      {
       "cell_index": 9
      }
     ]
    }
   },
   "version": "1.2.0"
  }
 },
 "nbformat": 4,
 "nbformat_minor": 2
}
