{
 "cells": [
  {
   "cell_type": "code",
   "execution_count": 5,
   "metadata": {
    "collapsed": false
   },
   "outputs": [],
   "source": [
    "import json\n",
    "import requests\n",
    "import gmaps\n",
    "import numpy as np\n",
    "\n",
    "url = 'http://www.data4citizen.jp/app/users/openDataOutput/json/get/O_AIZU33KANNNON02_TABLE'\n",
    "r = requests.get(url)\n",
    "\n",
    "data = r.json()\n",
    "latlon = np.empty((0,2), float)\n",
    "\n",
    "for item in data[\"data\"]:\n",
    "  _latlon = np.array([[item[\"KannondoLatitude\"], item[\"KannondoLongtitude\"]]])\n",
    "  latlon = np.append(latlon, _latlon, axis=0)\n",
    "\n",
    "gmaps.configure(api_key=\"AIzaSyBB....\") # Your Google API key\n",
    "\n",
    "m = gmaps.Map()\n",
    "m.add_layer(gmaps.Heatmap(data=latlon.tolist()))\n",
    "m"
   ]
  },
  {
   "cell_type": "code",
   "execution_count": null,
   "metadata": {
    "collapsed": true
   },
   "outputs": [],
   "source": []
  }
 ],
 "metadata": {
  "kernelspec": {
   "display_name": "Python 2",
   "language": "python",
   "name": "python2"
  },
  "language_info": {
   "codemirror_mode": {
    "name": "ipython",
    "version": 2
   },
   "file_extension": ".py",
   "mimetype": "text/x-python",
   "name": "python",
   "nbconvert_exporter": "python",
   "pygments_lexer": "ipython2",
   "version": "2.7.9"
  },
  "widgets": {
   "state": {
    "2196743b9e9e4712a70fe1e34574f07a": {
     "views": [
      {
       "cell_index": 0
      }
     ]
    }
   },
   "version": "1.2.0"
  }
 },
 "nbformat": 4,
 "nbformat_minor": 2
}
